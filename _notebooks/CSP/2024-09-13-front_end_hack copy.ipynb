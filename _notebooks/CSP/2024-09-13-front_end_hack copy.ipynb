{
 "cells": [
  {
   "cell_type": "markdown",
   "metadata": {},
   "source": [
    "---\n",
    "layout: post\n",
    "title: Front end HACKS\n",
    "description: Front end hacks to showcase\n",
    "type: ccc\n",
    "courses: {'csp': {'week': 1}}\n",
    "---"
   ]
  },
  {
   "cell_type": "markdown",
   "metadata": {},
   "source": [
    "```\n",
    "<button id = \"x\">Without</button>\n",
    "    <br><br>\n",
    "    <a href=\"about:blank\"><button id = \"x\">With</button></a>\n",
    "```\n",
    "\n",
    "<html>\n",
    "<body>\n",
    "    <button id = \"x\">Without</button>\n",
    "        <br><br>\n",
    "    <a href=\"about:blank\"><button id = \"x\">With</button></a>\n",
    "<br><br>\n",
    "</body>\n",
    "</html>"
   ]
  },
  {
   "cell_type": "code",
   "execution_count": 8,
   "metadata": {
    "vscode": {
     "languageId": "javascript"
    }
   },
   "outputs": [
    {
     "data": {
      "application/javascript": "var obj = {\n    name: \"Ian\",\n    age: 16,\n    grade: \"11th\"\n};\nvar a1 = \"hello\"\nvar b1 = \"world\"\nvar array = [b1, a1]\n\nconsole.log(array)\n",
      "text/plain": [
       "<IPython.core.display.Javascript object>"
      ]
     },
     "metadata": {},
     "output_type": "display_data"
    }
   ],
   "source": [
    "%%js\n",
    "var obj = {\n",
    "    name: \"Ian\",\n",
    "    age: 16,\n",
    "    grade: \"11th\"\n",
    "};\n",
    "var a1 = \"hello\"\n",
    "var b1 = \"world\"\n",
    "var array = [b1, a1]\n",
    "\n",
    "console.log(array)"
   ]
  }
 ],
 "metadata": {
  "kernelspec": {
   "display_name": "Python 3",
   "language": "python",
   "name": "python3"
  },
  "language_info": {
   "codemirror_mode": {
    "name": "ipython",
    "version": 3
   },
   "file_extension": ".py",
   "mimetype": "text/x-python",
   "name": "python",
   "nbconvert_exporter": "python",
   "pygments_lexer": "ipython3",
   "version": "3.10.12"
  }
 },
 "nbformat": 4,
 "nbformat_minor": 2
}
