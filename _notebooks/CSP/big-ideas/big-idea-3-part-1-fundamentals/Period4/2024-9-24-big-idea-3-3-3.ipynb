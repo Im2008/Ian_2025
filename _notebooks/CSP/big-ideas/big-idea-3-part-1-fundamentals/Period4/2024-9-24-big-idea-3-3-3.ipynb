{
 "cells": [
  {
   "cell_type": "raw",
   "metadata": {
    "vscode": {
     "languageId": "raw"
    }
   },
   "source": [
    "---\n",
    "toc: false\n",
    "comments: true\n",
    "layout: post\n",
    "title: 3.3 Python Mathematical Hacks\n",
    "description: Student led teaching on  Mathematical Expressions. Learn how mathematical expressions involve using arithmetic operators (like addition, subtraction, multiplication, and division) to perform calculations\n",
    "permalink: /csp/big-idea/p4/3-3-3\n",
    "author: Anvay, Pranav, Kiruthic, Rayhaan, Yuva\n",
    "menu: nav/csp_units/csp_unit3_p4_fundamentals.html\n",
    "---"
   ]
  },
  {
   "cell_type": "markdown",
   "metadata": {},
   "source": [
    "| **Operator**           | **Description**                     | **Python Example**         |\n",
    "|------------------------|-------------------------------------|----------------------------|\n",
    "| **P** - Parentheses     | Operations inside `()`              | `(3 + 2) * 4 = 20`         |\n",
    "| **E** - Exponents       | Powers (using `**` operator)        | `2 ** 3 = 8`               |\n",
    "| **M** - Multiplication  | Multiply two numbers                | `3 * 4 = 12`               |\n",
    "| **D** - Division        | Divide two numbers                  | `12 / 3 = 4.0`             |\n",
    "| **F** - Floor Division  | Division with integer result        | `12 // 5 = 2`              |\n",
    "| **M** - Modulus         | Remainder of division               | `12 % 5 = 2`               |\n",
    "| **A** - Addition        | Sum of numbers                      | `3 + 5 = 8`                |\n",
    "| **S** - Subtraction     | Difference between numbers          | `10 - 4 = 6`               |"
   ]
  },
  {
   "cell_type": "markdown",
   "metadata": {},
   "source": [
    "# Example Hack #1 (Function for Basic Arithmetic Operations)"
   ]
  },
  {
   "cell_type": "code",
   "execution_count": null,
   "metadata": {},
   "outputs": [],
   "source": [
    "def basicOperations(a, b):\n",
    "    sum = a + b\n",
    "    difference = a - b\n",
    "    product = a * b\n",
    "    quotient = a / b\n",
    "    remainder = a % b\n",
    "\n",
    "    print(f\"Addition: {a} + {b} = {sum}\")\n",
    "    print(f\"Subtraction: {a} - {b} = {difference}\")\n",
    "    print(f\"Multiplication: {a} * {b} = {product}\")\n",
    "    print(f\"Division: {a} / {b} = {quotient}\")\n",
    "    print(f\"Modulus: {a} % {b} = {remainder}\")\n",
    "\n",
    "\n",
    "basicOperations(10, 5)"
   ]
  },
  {
   "cell_type": "markdown",
   "metadata": {},
   "source": [
    "<button class=\"toggle-button3\" onclick=\"toggleOutput3()\">Show Output</button>\n",
    "<div class=\"output-container3\" id=\"outputContainer3\" style=\"display: none;\">\n",
    "    <pre>Addition: 10 + 5 = 15\n",
    "Subtraction: 10 - 5 = 5\n",
    "Multiplication: 10 * 5 = 50\n",
    "Division: 10 / 5 = 2.0\n",
    "Modulus: 10 % 5 = 0</pre>\n",
    "</div>\n",
    "\n",
    "<style>\n",
    "    .toggle-button3 {\n",
    "        padding: 10px 20px;\n",
    "        background-color: #007bff;\n",
    "        color: white;\n",
    "        border: none;\n",
    "        cursor: pointer;\n",
    "        margin-top: 10px;\n",
    "    }\n",
    "    .toggle-button3:hover {\n",
    "        background-color: #0056b3;\n",
    "    }\n",
    "    .output-container3 {\n",
    "        background-color: #252734;\n",
    "        color: white;\n",
    "        padding: 10px;\n",
    "        margin-top: 10px;\n",
    "        font-family: monospace;\n",
    "        white-space: pre-wrap;\n",
    "        border-radius: 5px;\n",
    "    }\n",
    "</style>\n",
    "\n",
    "<script>\n",
    "    function toggleOutput3() {\n",
    "        var outputContainer3 = document.getElementById(\"outputContainer3\");\n",
    "        if (outputContainer3.style.display === \"none\") {\n",
    "            outputContainer3.style.display = \"block\";\n",
    "            document.querySelector(\".toggle-button3\").textContent = \"Hide Output\";\n",
    "        } else {\n",
    "            outputContainer3.style.display = \"none\";\n",
    "            document.querySelector(\".toggle-button3\").textContent = \"Show Output\";\n",
    "        }\n",
    "    }\n",
    "</script>"
   ]
  },
  {
   "cell_type": "markdown",
   "metadata": {},
   "source": [
    "# Example Hack #1 (Fibbonaci Sequence)"
   ]
  },
  {
   "cell_type": "code",
   "execution_count": null,
   "metadata": {},
   "outputs": [],
   "source": [
    "def fibonacci(n):\n",
    "    if n == 0:\n",
    "        return 0\n",
    "    if n == 1: \n",
    "        return 1\n",
    "    \n",
    "    a = 0\n",
    "    b = 1\n",
    "    \n",
    "\n",
    "    for i in range(2, n):\n",
    "        next = a + b\n",
    "        a = b\n",
    "        b = next\n",
    "    \n",
    "    return b\n",
    "\n",
    "\n",
    "n = 7 # Find the 7th Fibonacci number\n",
    "print(f\"The {n}th Fibonacci number is: {fibonacci(n)}\")"
   ]
  },
  {
   "cell_type": "markdown",
   "metadata": {},
   "source": [
    "<button class=\"toggle-button4\" onclick=\"toggleOutput4()\">Show Output</button>\n",
    "<div class=\"output-container4\" id=\"outputContainer4\" style=\"display: none;\">\n",
    "    <pre>The 7th Fibonacci number is: 8</pre>\n",
    "</div>\n",
    "\n",
    "<style>\n",
    "    .toggle-button4 {\n",
    "        padding: 10px 20px;\n",
    "        background-color: #007bff;\n",
    "        color: white;\n",
    "        border: none;\n",
    "        cursor: pointer;\n",
    "        margin-top: 10px;\n",
    "    }\n",
    "    .toggle-button4:hover {\n",
    "        background-color: #0056b3;\n",
    "    }\n",
    "    .output-container4 {\n",
    "        background-color: #252734;\n",
    "        color: white;\n",
    "        padding: 10px;\n",
    "        margin-top: 10px;\n",
    "        font-family: monospace;\n",
    "        white-space: pre-wrap;\n",
    "        border-radius: 5px;\n",
    "    }\n",
    "</style>\n",
    "\n",
    "<script>\n",
    "    function toggleOutput4() {\n",
    "        var outputContainer4 = document.getElementById(\"outputContainer4\");\n",
    "        if (outputContainer4.style.display === \"none\") {\n",
    "            outputContainer4.style.display = \"block\";\n",
    "            document.querySelector(\".toggle-button4\").textContent = \"Hide Output\";\n",
    "        } else {\n",
    "            outputContainer4.style.display = \"none\";\n",
    "            document.querySelector(\".toggle-button4\").textContent = \"Show Output\";\n",
    "        }\n",
    "    }\n",
    "</script>"
   ]
  },
  {
   "cell_type": "markdown",
   "metadata": {},
   "source": [
    "# Popcorn Hacks\n",
    "\n",
    "\n",
    "1. Hack #1\n",
    " - Define a list of integers\n",
    " - Compute the sum of all of the integers\n",
    " - Print the sum\n",
    "\n",
    "2. Hack #2\n",
    " - Prompt the user to enter the price per bag of popcorn.\n",
    " - Prompt the user to enter the number of bags they want to buy.\n",
    " - Calculate the total cost using multiplication.\n",
    " - Print the total cost.\n",
    " \n",
    "3. Hack #3\n",
    " - Prompt the user to enter a number n.\n",
    " - Initialize total_sum to 0.\n",
    " - Use a loop to iterate from 1 to n.\n",
    " - Add each number to total_sum.\n",
    " - Print the total_sum."
   ]
  },
  {
   "cell_type": "markdown",
   "metadata": {},
   "source": [
    "# Homework Hacks\n",
    "\n",
    "Now that we have learned about these various math expressions and operations, there are some hacks that you can complete.\n",
    "\n",
    "\n",
    "1. Write a function that has a defined list of integers. The function should: \n",
    "- Compute the arithmetic mean.\n",
    "- Compute the median.\n",
    "- Print both results. \n",
    "\n",
    "\n",
    "2. Make a function that takes one variable a. This function should list the sequence of numbers in the Collatz problem. The Collatz Problem is a math problem where you start with a positive integer and if it is odd you multiply by 3 and add 1, and if it is even you divide by 2. Use conditionals and keep repeating or iterating this process, and eventually you should reach 1 no matter what number is taken as input. Make an array that starts at the variable a, and keeps adding integers until it reaches 1, and print the sequence."
   ]
  },
  {
   "cell_type": "code",
   "execution_count": null,
   "metadata": {},
   "outputs": [],
   "source": [
    "# POPCORN HACK 1\n",
    "# Define a list of integers\n",
    "numbers = [5, 8, 12, 20, 7]\n",
    "\n",
    "# Compute the sum of all integers\n",
    "total_sum = sum(numbers)\n",
    "\n",
    "# Print the sum\n",
    "print(\"The sum of the integers is:\", total_sum)"
   ]
  },
  {
   "cell_type": "code",
   "execution_count": null,
   "metadata": {},
   "outputs": [],
   "source": [
    "# POPCORN HACK 2\n",
    "# Prompt the user to enter the price per bag of popcorn\n",
    "price_per_bag = float(input(\"Enter the price per bag of popcorn: \"))\n",
    "\n",
    "# Prompt the user to enter the number of bags they want to buy\n",
    "number_of_bags = int(input(\"Enter the number of bags you want to buy: \"))\n",
    "\n",
    "# Calculate the total cost\n",
    "total_cost = price_per_bag * number_of_bags\n",
    "\n",
    "# Print the total cost\n",
    "print(\"The total cost is: $\", total_cost)"
   ]
  },
  {
   "cell_type": "code",
   "execution_count": null,
   "metadata": {},
   "outputs": [],
   "source": [
    "# POPCORN HACK 3\n",
    "# Prompt the user to enter a number n\n",
    "n = int(input(\"Enter a number n: \"))\n",
    "\n",
    "# Initialize total_sum to 0\n",
    "total_sum = 0\n",
    "\n",
    "# Use a loop to iterate from 1 to n\n",
    "for i in range(1, n + 1):\n",
    "    total_sum += i\n",
    "\n",
    "# Print the total sum\n",
    "print(\"The sum of numbers from 1 to\", n, \"is:\", total_sum)"
   ]
  },
  {
   "cell_type": "code",
   "execution_count": null,
   "metadata": {},
   "outputs": [],
   "source": [
    "# HOMEWORK HACK 1\n",
    "def compute_mean_and_median():\n",
    "    # Define a list of integers\n",
    "    numbers = [10, 15, 14, 7, 18, 20, 12]\n",
    "\n",
    "    # Compute the arithmetic mean\n",
    "    mean = sum(numbers) / len(numbers)\n",
    "\n",
    "    # Compute the median\n",
    "    sorted_numbers = sorted(numbers)\n",
    "    length = len(sorted_numbers)\n",
    "\n",
    "    if length % 2 == 0:  # Even number of elements\n",
    "        median = (sorted_numbers[length // 2 - 1] + sorted_numbers[length // 2]) / 2\n",
    "    else:  # Odd number of elements\n",
    "        median = sorted_numbers[length // 2]\n",
    "\n",
    "    # Print the mean and median\n",
    "    print(\"Arithmetic Mean:\", mean)\n",
    "    print(\"Median:\", median)\n",
    "\n",
    "# Call the function to compute and print results\n",
    "compute_mean_and_median()"
   ]
  },
  {
   "cell_type": "code",
   "execution_count": null,
   "metadata": {},
   "outputs": [],
   "source": [
    "# HOMEWORK HACK 2\n",
    "def collatz_sequence(a):\n",
    "    # Initialize the sequence with the starting number\n",
    "    sequence = [a]\n",
    "\n",
    "    # Continue the process until we reach 1\n",
    "    while a != 1:\n",
    "        if a % 2 == 0:\n",
    "            a = a // 2\n",
    "        else:\n",
    "            a = a * 3 + 1\n",
    "        sequence.append(a)\n",
    "\n",
    "    # Print the sequence\n",
    "    print(\"Collatz Sequence:\", sequence)\n",
    "\n",
    "# Example usage\n",
    "n = int(input(\"Enter a positive integer: \"))\n",
    "collatz_sequence(n)"
   ]
  },
  {
   "cell_type": "code",
   "execution_count": null,
   "metadata": {
    "vscode": {
     "languageId": "javascript"
    }
   },
   "outputs": [],
   "source": [
    "// POPCORN HACK 1 (just easy):\n",
    "\n",
    "function calculate32() {\n",
    "    let result = (10 * 3) + 5 - 3 + 1; // Using multiplication, addition, subtraction, and addition\n",
    "    return result;\n",
    "}\n",
    "\n",
    "console.log(calculate32()); // Output: 32"
   ]
  },
  {
   "cell_type": "code",
   "execution_count": null,
   "metadata": {
    "vscode": {
     "languageId": "javascript"
    }
   },
   "outputs": [],
   "source": [
    "// POPCORN HACK 2 (just medium):\n",
    "\n",
    "function makeSandwich() {\n",
    "    let bread = prompt(\"Choose your bread: White, Wheat, Multigrain\");\n",
    "    let protein = prompt(\"Choose your protein: Turkey, Chicken, Tofu, Ham\");\n",
    "    let cheese = prompt(\"Choose your cheese: Cheddar, Swiss, Mozzarella, No Cheese\");\n",
    "    let veggies = prompt(\"Choose your veggies: Lettuce, Tomato, Onion, Peppers\");\n",
    "    let sauce = prompt(\"Choose your sauce: Mayo, Mustard, Ketchup, No Sauce\");\n",
    "\n",
    "    // Give the sandwich a name based on ingredients\n",
    "    let sandwichName = `The ${protein}-${veggies} Special`;\n",
    "\n",
    "    console.log(`You made a sandwich with ${bread} bread, ${protein}, ${cheese}, ${veggies}, and ${sauce}.`);\n",
    "    console.log(`We call it: ${sandwichName}`);\n",
    "}\n",
    "\n",
    "// Call the function to create a sandwich\n",
    "makeSandwich();\n"
   ]
  },
  {
   "cell_type": "code",
   "execution_count": null,
   "metadata": {
    "vscode": {
     "languageId": "javascript"
    }
   },
   "outputs": [],
   "source": [
    "// POPCORN HACK 3 (just hard):\n",
    "\n",
    "function chooseYourPath() {\n",
    "    let choice1 = prompt(\"You see a wallet on the ground. Do you pick it up?\\n1. Yes\\n2. No\");\n",
    "\n",
    "    if (choice1 === \"1\") {\n",
    "        let choice2 = prompt(\"Do you open the wallet?\\n1. Yes\\n2. No\");\n",
    "        if (choice2 === \"1\") {\n",
    "            console.log(\"You find $100 inside. Do you keep the money or return the wallet?\");\n",
    "            let choice3 = prompt(\"1. Keep the money\\n2. Return the wallet\");\n",
    "            if (choice3 === \"1\") {\n",
    "                console.log(\"You keep the money and feel guilty. Maybe honesty is the best policy.\");\n",
    "            } else {\n",
    "                console.log(\"You return the wallet to its owner and they thank you. You feel proud for doing the right thing.\");\n",
    "            }\n",
    "        } else {\n",
    "            console.log(\"You leave the wallet untouched and walk away, hoping the owner will find it.\");\n",
    "        }\n",
    "    } else {\n",
    "        console.log(\"You walk past the wallet and leave it for someone else to find.\");\n",
    "    }\n",
    "}\n",
    "\n",
    "// Call the game function\n",
    "chooseYourPath();\n"
   ]
  },
  {
   "cell_type": "code",
   "execution_count": null,
   "metadata": {
    "vscode": {
     "languageId": "javascript"
    }
   },
   "outputs": [],
   "source": [
    "// HOMEWORK HACK:\n",
    "\n",
    "function computeGCDAndLCM(a, b) {\n",
    "    // Function to compute GCD using the Euclidean algorithm\n",
    "    function gcd(x, y) {\n",
    "        while (y !== 0) {\n",
    "            let temp = y;\n",
    "            y = x % y;\n",
    "            x = temp;\n",
    "        }\n",
    "        return x;\n",
    "    }\n",
    "\n",
    "    // Compute GCD\n",
    "    const gcdValue = gcd(a, b);\n",
    "\n",
    "    // Compute LCM using the formula: LCM(a, b) = |a * b| / GCD(a, b)\n",
    "    const lcmValue = (Math.abs(a * b) / gcdValue);\n",
    "\n",
    "    // Return results as an object\n",
    "    return {\n",
    "        gcd: gcdValue,\n",
    "        lcm: lcmValue\n",
    "    };\n",
    "}\n",
    "\n",
    "// Example usage\n",
    "const result = computeGCDAndLCM(12, 15);\n",
    "console.log(`GCD: ${result.gcd}, LCM: ${result.lcm}`);\n",
    "\n",
    "function primeFactors(n) {\n",
    "    const factors = [];\n",
    "    \n",
    "    // Check for number of 2s that divide n\n",
    "    while (n % 2 === 0) {\n",
    "        factors.push(2);\n",
    "        n = n / 2;\n",
    "    }\n",
    "\n",
    "    // Check for odd factors from 3 to sqrt(n)\n",
    "    for (let i = 3; i <= Math.sqrt(n); i += 2) {\n",
    "        while (n % i === 0) {\n",
    "            factors.push(i);\n",
    "            n = n / i;\n",
    "        }\n",
    "    }\n",
    "\n",
    "    // This condition is to check if n is a prime number greater than 2\n",
    "    if (n > 2) {\n",
    "        factors.push(n);\n",
    "    }\n",
    "\n",
    "    return factors;\n",
    "}\n",
    "\n",
    "// Example usage\n",
    "const primeFactorsResult = primeFactors(60);\n",
    "console.log(`Prime Factors: ${primeFactorsResult}`);"
   ]
  }
 ],
 "metadata": {
  "kernelspec": {
   "display_name": "venv",
   "language": "python",
   "name": "python3"
  },
  "language_info": {
   "codemirror_mode": {
    "name": "ipython",
    "version": 3
   },
   "file_extension": ".py",
   "mimetype": "text/x-python",
   "name": "python",
   "nbconvert_exporter": "python",
   "pygments_lexer": "ipython3",
   "version": "3.12.5"
  }
 },
 "nbformat": 4,
 "nbformat_minor": 2
}
