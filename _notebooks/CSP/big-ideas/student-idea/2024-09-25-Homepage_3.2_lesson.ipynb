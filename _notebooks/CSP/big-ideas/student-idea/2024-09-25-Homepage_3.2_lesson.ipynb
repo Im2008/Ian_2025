{
 "cells": [
  {
   "attachments": {},
   "cell_type": "markdown",
   "metadata": {
    "vscode": {
     "languageId": "raw"
    }
   },
   "source": [
    "---\n",
    "toc: false\n",
    "comments: true\n",
    "layout: post\n",
    "title: 3.2 Data Abstraction\n",
    "description: Student led teaching on Data Abstraction. Learn how data abstraction involves managing complexity in programs\n",
    "permalink: /csp/big-ideas/Homepage_3.2_lesson\n",
    "categories: [CSP Big Ideas]\n",
    "author: Ian, Thomas, Aarush, Collin\n",
    "menu: nav/csp_student_lesson/csp_student_lesson.html\n",
    "---"
   ]
  },
  {
   "cell_type": "markdown",
   "metadata": {},
   "source": [
    "# Navigation bar\n",
    "\n",
    "The nav bar above will navigate you through the different lessons, popcorn hacks, homework hacks throughout the student lesson. Lessons will be on the \"Main Lesson\" while the hacks will be on separate parts of the notebook."
   ]
  }
 ],
 "metadata": {
  "kernelspec": {
   "display_name": "base",
   "language": "python",
   "name": "python3"
  },
  "language_info": {
   "codemirror_mode": {
    "name": "ipython",
    "version": 3
   },
   "file_extension": ".py",
   "mimetype": "text/x-python",
   "name": "python",
   "nbconvert_exporter": "python",
   "pygments_lexer": "ipython3",
   "version": "3.11.4"
  },
  "orig_nbformat": 4
 },
 "nbformat": 4,
 "nbformat_minor": 2
}
