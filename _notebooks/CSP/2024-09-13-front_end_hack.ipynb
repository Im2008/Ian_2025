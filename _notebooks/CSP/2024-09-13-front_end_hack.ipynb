{
 "cells": [
  {
   "cell_type": "markdown",
   "metadata": {},
   "source": [
    "---\n",
    "layout: post\n",
    "title: Front end HACKS\n",
    "description: Front end hacks to showcase\n",
    "type: ccc\n",
    "courses: {'csp': {'week': 1}}\n",
    "---"
   ]
  },
  {
   "cell_type": "markdown",
   "metadata": {},
   "source": [
    "# Buttons:\n",
    "The buttons should have a link, where the 1st one doesn't take you anywhere, and the next button has the link that goes towards \"about:blank\"."
   ]
  },
  {
   "cell_type": "markdown",
   "metadata": {},
   "source": [
    "```\n",
    "<button id = \"x\">Without</button>\n",
    "    <br><br>\n",
    "    <a href=\"about:blank\"><button id = \"x\">With</button></a>\n",
    "```\n",
    "\n",
    "<html>\n",
    "<body>\n",
    "    <button id = \"x\">Without</button>\n",
    "        <br><br>\n",
    "    <a href=\"about:blank\"><button id = \"x\">With</button></a>\n",
    "<br><br>\n",
    "</body>\n",
    "</html>"
   ]
  },
  {
   "cell_type": "markdown",
   "metadata": {},
   "source": [
    "# Hack 2: Make script stuff:\n",
    "\n",
    "The scripts should past mostly from objects, and variables that equal numbers to result in a different output.\n",
    "\n",
    "<script>\n",
    "    %%js\n",
    "    //Created an Object (STEP 1 & 2):\n",
    "    var obj = {\n",
    "        name: \"Ian\",\n",
    "        age: 16,\n",
    "        grade: \"11th\",\n",
    "        classes: [\"American Literature\", \"CSP\", \"Calc AB\", \"U.S History\", \"Chemistry\"],\n",
    "        interests: \"volleyball, cooking, biking\"\n",
    "    };\n",
    "    //END\n",
    "\n",
    "    //STEP 3 (print the entire object):\n",
    "    console.log(obj);\n",
    "    //END\n",
    "\n",
    "\n",
    "    //STEP 4 (output the array):\n",
    "    console.log(obj.classes[0]);\n",
    "    //END\n",
    "\n",
    "    //STEP 5 (make variables equal a result):\n",
    "    var num1 = 2;\n",
    "    var num2 = 4;\n",
    "    //END 5 pt.1\n",
    "\n",
    "\n",
    "    //STEP 5 (output the results of both variables):\n",
    "    console.log(\"2 + 4 =\", num1 + num2);\n",
    "    //END 5 pt.2\n",
    "\n",
    "    //STEP 6 (TYPE OF FUNC):\n",
    "    console.log(typeof 12);\n",
    "    console.log(typeof obj);\n",
    "    console.log(typeof none);\n",
    "    //END\n",
    "\n",
    "</script>"
   ]
  },
  {
   "cell_type": "markdown",
   "metadata": {
    "vscode": {
     "languageId": "javascript"
    }
   },
   "source": [
    "```\n",
    "//Created an Object (STEP 1 & 2):\n",
    "var obj = {\n",
    "    name: \"Ian\",\n",
    "    age: 16,\n",
    "    grade: \"11th\",\n",
    "    classes: [\"American Literature\", \"CSP\", \"Calc AB\", \"U.S History\", \"Chemistry\"],\n",
    "    interests: \"volleyball, cooking, biking\"\n",
    "};\n",
    "//END\n",
    "//STEP 3 (print the entire object):\n",
    "console.log(obj);\n",
    "//END\n",
    "//STEP 4 (output the array):\n",
    "console.log(obj.classes[0]);\n",
    "//END\n",
    "//STEP 5 (make variables equal a result):\n",
    "var num1 = 2;\n",
    "var num2 = 4;\n",
    "//END 5 pt.1\n",
    "//STEP 5 (output the results of both variables):\n",
    "console.log(\"2 + 4 =\", num1 + num2);\n",
    "//END 5 pt.2\n",
    "//STEP 6 (TYPE OF FUNC):\n",
    "console.log(typeof 12);\n",
    "console.log(typeof obj);\n",
    "console.log(typeof none);\n",
    "//END\n",
    "```"
   ]
  }
 ],
 "metadata": {
  "kernelspec": {
   "display_name": "Python 3",
   "language": "python",
   "name": "python3"
  },
  "language_info": {
   "codemirror_mode": {
    "name": "ipython",
    "version": 3
   },
   "file_extension": ".py",
   "mimetype": "text/x-python",
   "name": "python",
   "nbconvert_exporter": "python",
   "pygments_lexer": "ipython3",
   "version": "3.10.12"
  }
 },
 "nbformat": 4,
 "nbformat_minor": 2
}
