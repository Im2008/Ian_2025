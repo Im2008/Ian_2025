{
 "cells": [
  {
   "cell_type": "code",
   "execution_count": 4,
   "metadata": {},
   "outputs": [
    {
     "name": "stdout",
     "output_type": "stream",
     "text": [
      "👍 Kasm Broke Again 😀\n"
     ]
    }
   ],
   "source": [
    "from emoji import emojize \n",
    "print(emojize(\":thumbs_up: Kasm Broke Again :grinning_face:\"))"
   ]
  },
  {
   "cell_type": "markdown",
   "metadata": {},
   "source": [
    "From the emoji code, it uses emojize to make emojis be able to be copy and pasted instead of looking like a box. This would be really helpful for my page because it would allow for better atmosphere if I was gonna make a text document, or it could make chat-boxes more friendly if they could put emojis inside their game."
   ]
  },
  {
   "cell_type": "code",
   "execution_count": 9,
   "metadata": {},
   "outputs": [
    {
     "name": "stdout",
     "output_type": "stream",
     "text": [
      "Chicken Sandwich\n"
     ]
    },
    {
     "data": {
      "text/markdown": [
       "A chicken sandwich is a sandwich that typically consists of boneless, skinless chicken breast or thigh, served between slices of bread. Variations on the \"chicken sandwich\" include chicken on a bun, chicken on a Kaiser, hot chicken, or chicken salad sandwich."
      ],
      "text/plain": [
       "<IPython.core.display.Markdown object>"
      ]
     },
     "metadata": {},
     "output_type": "display_data"
    },
    {
     "name": "stdout",
     "output_type": "stream",
     "text": [
      "Turkey Sandwich\n"
     ]
    },
    {
     "data": {
      "text/markdown": [
       "Turkey meat, commonly referred to as just turkey, is the meat from turkeys, typically domesticated turkeys, but also wild turkeys. It is a popular poultry dish, especially in North America and the United Kingdom, where it is traditionally consumed as part of culturally significant events such as Thanksgiving and Christmas respectively, as well as in standard cuisine."
      ],
      "text/plain": [
       "<IPython.core.display.Markdown object>"
      ]
     },
     "metadata": {},
     "output_type": "display_data"
    }
   ],
   "source": [
    "import wikipedia \n",
    "from IPython.display import display, Markdown # add for Jupyter\n",
    "\n",
    "terms = [\"Chicken Sandwich\", \"Turkey Sandwich\"]\n",
    "for term in terms:\n",
    "    # Search for a page \n",
    "    result = wikipedia.search(term)\n",
    "    # Get the summary of the first result\n",
    "    summary = wikipedia.summary(result[0])\n",
    "    print(term) \n",
    "    # print(summary) # console display\n",
    "    display(Markdown(summary)) # Jupyter display"
   ]
  },
  {
   "cell_type": "markdown",
   "metadata": {},
   "source": [
    "This python code allows a quick search through wikipedia by using wikipedia3k, and pasting a summary of what wikipedia says about the text that was put in. For example, if I put chicken sandwich, the description aboout a chicken sandwich and where it originated from would be displayed. This would be really helpful especially since if I'm trying to make a webpage about information of other stuff, I wouldn't want to take a lot of time typing information into code, but rather make stuff easier by searching it through the web."
   ]
  }
 ],
 "metadata": {
  "kernelspec": {
   "display_name": "venv",
   "language": "python",
   "name": "python3"
  },
  "language_info": {
   "codemirror_mode": {
    "name": "ipython",
    "version": 3
   },
   "file_extension": ".py",
   "mimetype": "text/x-python",
   "name": "python",
   "nbconvert_exporter": "python",
   "pygments_lexer": "ipython3",
   "version": "3.10.12"
  }
 },
 "nbformat": 4,
 "nbformat_minor": 2
}
